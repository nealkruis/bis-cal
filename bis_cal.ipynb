{
 "cells": [
  {
   "cell_type": "code",
   "execution_count": 41,
   "metadata": {
    "collapsed": false
   },
   "outputs": [],
   "source": [
    "import requests\n",
    "from bs4 import BeautifulSoup\n",
    "from ics import Calendar, Event\n",
    "from dateutil.parser import parse\n",
    "from datetime import datetime, timedelta\n",
    "import pytz\n",
    "import sys"
   ]
  },
  {
   "cell_type": "code",
   "execution_count": 50,
   "metadata": {
    "collapsed": true
   },
   "outputs": [],
   "source": [
    "def getUrl(team):\n",
    "    with requests.Session() as s:\n",
    "        url = 'http://www.boulderindoorsoccer.com/standings/adult_standings.php'\n",
    "        soup = BeautifulSoup(s.get(url).text)\n",
    "        # Session\n",
    "        selector = soup.find(\"select\", attrs={\"class\":\"scheduleheader\"})\n",
    "        session = selector.findAll(\"option\")[0].text\n",
    "        \n",
    "        # Team Name and Link\n",
    "        table = soup.find(\"table\", attrs={\"class\":\"scheduleTable\"})\n",
    "        count = 0\n",
    "        teams = []\n",
    "        link = None\n",
    "        for tr in table.findAll(\"tr\"):\n",
    "            ncol = len(tr.findAll(\"td\"))\n",
    "            tds = tr.findAll(\"td\", attrs={\"align\":\"left\"})\n",
    "            if ncol > 1 and len(tds) > 0:\n",
    "                tCol = tds[0]\n",
    "                if team in tCol.text:\n",
    "                    teams.append(tCol.text)\n",
    "                    link = tCol.findAll(\"a\")[0]['href']\n",
    "                    count += 1\n",
    "        if count != 1:\n",
    "            if count > 1:\n",
    "                print \"Found too many teams ({count} matches): \".format(**locals())\n",
    "                for t in teams:\n",
    "                    print \"  {t}\".format(**locals())\n",
    "                    \n",
    "                print \"\\nBe more specifc!\"\n",
    "            elif count == 0:\n",
    "                \"Team not found!\"\n",
    "            return None, None, None\n",
    "        return link, teams[0], session"
   ]
  },
  {
   "cell_type": "code",
   "execution_count": 53,
   "metadata": {
    "collapsed": false
   },
   "outputs": [],
   "source": [
    "def bis_cal(team):\n",
    "    \n",
    "    mt = pytz.timezone('US/Mountain')\n",
    "    utc = pytz.utc\n",
    "    \n",
    "    link, team_name, session = getUrl(team)\n",
    "    \n",
    "    if link:\n",
    "        with requests.Session() as s:\n",
    "            url_root = 'http://www.boulderindoorsoccer.com/schedules/'\n",
    "            url = url_root + link\n",
    "            soup = BeautifulSoup(s.get(url).text)\n",
    "            table = soup.find(\"table\", attrs={\"class\":\"scheduleTable\"})\n",
    "            c = Calendar()\n",
    "            for tr in table.findAll(\"tr\"):\n",
    "                good_line = False\n",
    "                column = 1\n",
    "                for td in tr.findAll(\"td\"):\n",
    "                    if good_line == True:\n",
    "                        if column == 2:\n",
    "                            home_team = td.text.strip()\n",
    "                        elif column == 5:\n",
    "                            away_team = td.text.strip()\n",
    "                        column += 1\n",
    "                    for span in td.findAll(\"span\"):\n",
    "                        date = span.text[9:-1].strip()\n",
    "                    if td.text[0].isdigit() and good_line == False:\n",
    "                        time = td.text\n",
    "                        good_line = True\n",
    "                        column += 1\n",
    "                # Create calendar event\n",
    "                if good_line:\n",
    "                    e = Event()\n",
    "                    e.name = \"Soccer: \" + home_team + \" v.s. \" + away_team\n",
    "                    timestamp = parse(date + \" \" + time)\n",
    "                    mt_time = mt.localize(timestamp)\n",
    "                    e.begin = mt_time#.astimezone(utc)\n",
    "                    e.duration = timedelta(minutes=50)\n",
    "                    e.location = \"Boulder Indoor Soccer, 3203 Pearl Street, Boulder, CO 80301, United States\"\n",
    "                    c.events.append(e)\n",
    "            with open(team_name + ' ' + session + '.ics', 'w') as ics_file:\n",
    "                ics_file.writelines(c)\n",
    "            return \"Calendar succesfully written for {team_name}, {session}!\".format(**locals())\n",
    "    else:\n",
    "        return None\n",
    "    "
   ]
  },
  {
   "cell_type": "code",
   "execution_count": 56,
   "metadata": {
    "collapsed": false
   },
   "outputs": [
    {
     "name": "stdout",
     "output_type": "stream",
     "text": [
      "Calendar written for Fire Hazard, Winter II 2016\n"
     ]
    }
   ],
   "source": [
    "print bis_cal(\"Fire Hazard\")"
   ]
  },
  {
   "cell_type": "code",
   "execution_count": 57,
   "metadata": {
    "collapsed": false
   },
   "outputs": [
    {
     "name": "stdout",
     "output_type": "stream",
     "text": [
      "Found too many teams (17 matches): \n",
      "  FC All Blacks\n",
      "  FC Football Club\n",
      "  Intercambio FC\n",
      "  THC FC\n",
      "  FC Constantly \n",
      "  TKFC\n",
      "  FCB U23\n",
      "  BBFC\n",
      "  FC Boulder\n",
      "  Free Agent FC\n",
      "  Vivace FC\n",
      "  Sevilla FC\n",
      "  FC BarcaYoda\n",
      "  FC Blouses\n",
      "  FC Hot Messi\n",
      "  Ruckus Bus FC\n",
      "  Colorado FC\n",
      "\n",
      "be more specifc!\n",
      "(None, None, None)\n"
     ]
    }
   ],
   "source": [
    "print getUrl(\"FC\")"
   ]
  },
  {
   "cell_type": "code",
   "execution_count": null,
   "metadata": {
    "collapsed": true
   },
   "outputs": [],
   "source": []
  }
 ],
 "metadata": {
  "kernelspec": {
   "display_name": "Python 2",
   "language": "python",
   "name": "python2"
  },
  "language_info": {
   "codemirror_mode": {
    "name": "ipython",
    "version": 2
   },
   "file_extension": ".py",
   "mimetype": "text/x-python",
   "name": "python",
   "nbconvert_exporter": "python",
   "pygments_lexer": "ipython2",
   "version": "2.7.10"
  }
 },
 "nbformat": 4,
 "nbformat_minor": 0
}
